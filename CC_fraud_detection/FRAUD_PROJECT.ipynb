{
 "cells": [
  {
   "cell_type": "markdown",
   "id": "892697f0",
   "metadata": {},
   "source": [
    "# Credit Card Fraud Detection with SQL\n",
    "\n",
    "This project explores credit card transaction data to detect fraudulent activity using SQL within a Jupyter Notebook. We'll load the dataset, create a SQLite database, run exploratory SQL queries, and visualize key fraud patterns.\n",
    "\n",
    "**Dataset:** [Credit Card Fraud Detection on Kaggle](https://www.kaggle.com/datasets/mlg-ulb/creditcardfraud)  \n",
    "**Goal:** Identify fraud patterns and simulate detection strategies using SQL and Python."
   ]
  },
  {
   "cell_type": "markdown",
   "id": "79978f80",
   "metadata": {},
   "source": [
    "---\n",
    "#### Set up SQLite Connection"
   ]
  },
  {
   "cell_type": "code",
   "execution_count": 28,
   "id": "fa1659eb",
   "metadata": {},
   "outputs": [
    {
     "name": "stdout",
     "output_type": "stream",
     "text": [
      "Dataset loaded. Shape: (284807, 31)\n",
      "SQL table 'transactions' created.\n"
     ]
    }
   ],
   "source": [
    "import pandas as pd\n",
    "import sqlite3\n",
    "\n",
    "# Load dataset\n",
    "df = pd.read_csv('creditcard.csv')\n",
    "print(\"Dataset loaded. Shape:\", df.shape)\n",
    "\n",
    "# Create SQLite DB and table\n",
    "conn = sqlite3.connect('fraud_detection.db')\n",
    "df.to_sql('transactions', conn, if_exists='replace', index=False)\n",
    "print(\"SQL table 'transactions' created.\")"
   ]
  },
  {
   "cell_type": "markdown",
   "id": "8557272d",
   "metadata": {},
   "source": [
    "---\n",
    "#### Total Transactions and Fraud Rate"
   ]
  },
  {
   "cell_type": "code",
   "execution_count": 29,
   "id": "6947db52",
   "metadata": {},
   "outputs": [
    {
     "data": {
      "text/html": [
       "<div>\n",
       "<style scoped>\n",
       "    .dataframe tbody tr th:only-of-type {\n",
       "        vertical-align: middle;\n",
       "    }\n",
       "\n",
       "    .dataframe tbody tr th {\n",
       "        vertical-align: top;\n",
       "    }\n",
       "\n",
       "    .dataframe thead th {\n",
       "        text-align: right;\n",
       "    }\n",
       "</style>\n",
       "<table border=\"1\" class=\"dataframe\">\n",
       "  <thead>\n",
       "    <tr style=\"text-align: right;\">\n",
       "      <th></th>\n",
       "      <th>total_txns</th>\n",
       "      <th>fraud_txns</th>\n",
       "      <th>fraud_rate</th>\n",
       "    </tr>\n",
       "  </thead>\n",
       "  <tbody>\n",
       "    <tr>\n",
       "      <th>0</th>\n",
       "      <td>284807</td>\n",
       "      <td>492</td>\n",
       "      <td>0.17</td>\n",
       "    </tr>\n",
       "  </tbody>\n",
       "</table>\n",
       "</div>"
      ],
      "text/plain": [
       "   total_txns  fraud_txns  fraud_rate\n",
       "0      284807         492        0.17"
      ]
     },
     "execution_count": 29,
     "metadata": {},
     "output_type": "execute_result"
    }
   ],
   "source": [
    "query = \"\"\"\n",
    "SELECT COUNT(*) AS total_txns,\n",
    "       SUM(CASE WHEN Class = 1 THEN 1 ELSE 0 END) AS fraud_txns,\n",
    "       ROUND(SUM(Class)*100.0/COUNT(*), 2) AS fraud_rate\n",
    "FROM transactions;\n",
    "\"\"\"\n",
    "pd.read_sql_query(query, conn)"
   ]
  },
  {
   "cell_type": "markdown",
   "id": "99566d31",
   "metadata": {},
   "source": [
    "---\n",
    "#### Top 10 Fraud Transactions by Amount"
   ]
  },
  {
   "cell_type": "code",
   "execution_count": 30,
   "id": "c1a15bed",
   "metadata": {},
   "outputs": [
    {
     "data": {
      "text/html": [
       "<div>\n",
       "<style scoped>\n",
       "    .dataframe tbody tr th:only-of-type {\n",
       "        vertical-align: middle;\n",
       "    }\n",
       "\n",
       "    .dataframe tbody tr th {\n",
       "        vertical-align: top;\n",
       "    }\n",
       "\n",
       "    .dataframe thead th {\n",
       "        text-align: right;\n",
       "    }\n",
       "</style>\n",
       "<table border=\"1\" class=\"dataframe\">\n",
       "  <thead>\n",
       "    <tr style=\"text-align: right;\">\n",
       "      <th></th>\n",
       "      <th>Amount</th>\n",
       "      <th>count</th>\n",
       "    </tr>\n",
       "  </thead>\n",
       "  <tbody>\n",
       "    <tr>\n",
       "      <th>0</th>\n",
       "      <td>1.00</td>\n",
       "      <td>113</td>\n",
       "    </tr>\n",
       "    <tr>\n",
       "      <th>1</th>\n",
       "      <td>99.99</td>\n",
       "      <td>27</td>\n",
       "    </tr>\n",
       "    <tr>\n",
       "      <th>2</th>\n",
       "      <td>0.00</td>\n",
       "      <td>27</td>\n",
       "    </tr>\n",
       "    <tr>\n",
       "      <th>3</th>\n",
       "      <td>0.76</td>\n",
       "      <td>17</td>\n",
       "    </tr>\n",
       "    <tr>\n",
       "      <th>4</th>\n",
       "      <td>0.77</td>\n",
       "      <td>10</td>\n",
       "    </tr>\n",
       "    <tr>\n",
       "      <th>5</th>\n",
       "      <td>0.01</td>\n",
       "      <td>5</td>\n",
       "    </tr>\n",
       "    <tr>\n",
       "      <th>6</th>\n",
       "      <td>3.79</td>\n",
       "      <td>4</td>\n",
       "    </tr>\n",
       "    <tr>\n",
       "      <th>7</th>\n",
       "      <td>2.00</td>\n",
       "      <td>4</td>\n",
       "    </tr>\n",
       "    <tr>\n",
       "      <th>8</th>\n",
       "      <td>12.31</td>\n",
       "      <td>3</td>\n",
       "    </tr>\n",
       "    <tr>\n",
       "      <th>9</th>\n",
       "      <td>2.28</td>\n",
       "      <td>3</td>\n",
       "    </tr>\n",
       "  </tbody>\n",
       "</table>\n",
       "</div>"
      ],
      "text/plain": [
       "   Amount  count\n",
       "0    1.00    113\n",
       "1   99.99     27\n",
       "2    0.00     27\n",
       "3    0.76     17\n",
       "4    0.77     10\n",
       "5    0.01      5\n",
       "6    3.79      4\n",
       "7    2.00      4\n",
       "8   12.31      3\n",
       "9    2.28      3"
      ]
     },
     "execution_count": 30,
     "metadata": {},
     "output_type": "execute_result"
    }
   ],
   "source": [
    "query = \"\"\"\n",
    "SELECT Amount, COUNT(*) AS count\n",
    "FROM transactions\n",
    "WHERE Class = 1\n",
    "GROUP BY Amount\n",
    "ORDER BY count DESC\n",
    "LIMIT 10;\n",
    "\"\"\"\n",
    "pd.read_sql_query(query, conn)"
   ]
  },
  {
   "cell_type": "markdown",
   "id": "f683dfda",
   "metadata": {},
   "source": [
    "---\n",
    "#### Average Transaction Amount by Class"
   ]
  },
  {
   "cell_type": "code",
   "execution_count": 31,
   "id": "970a0983",
   "metadata": {},
   "outputs": [
    {
     "data": {
      "text/html": [
       "<div>\n",
       "<style scoped>\n",
       "    .dataframe tbody tr th:only-of-type {\n",
       "        vertical-align: middle;\n",
       "    }\n",
       "\n",
       "    .dataframe tbody tr th {\n",
       "        vertical-align: top;\n",
       "    }\n",
       "\n",
       "    .dataframe thead th {\n",
       "        text-align: right;\n",
       "    }\n",
       "</style>\n",
       "<table border=\"1\" class=\"dataframe\">\n",
       "  <thead>\n",
       "    <tr style=\"text-align: right;\">\n",
       "      <th></th>\n",
       "      <th>Class</th>\n",
       "      <th>avg_amount</th>\n",
       "    </tr>\n",
       "  </thead>\n",
       "  <tbody>\n",
       "    <tr>\n",
       "      <th>0</th>\n",
       "      <td>0</td>\n",
       "      <td>88.29</td>\n",
       "    </tr>\n",
       "    <tr>\n",
       "      <th>1</th>\n",
       "      <td>1</td>\n",
       "      <td>122.21</td>\n",
       "    </tr>\n",
       "  </tbody>\n",
       "</table>\n",
       "</div>"
      ],
      "text/plain": [
       "   Class  avg_amount\n",
       "0      0       88.29\n",
       "1      1      122.21"
      ]
     },
     "execution_count": 31,
     "metadata": {},
     "output_type": "execute_result"
    }
   ],
   "source": [
    "query = \"\"\"\n",
    "SELECT Class,\n",
    "       ROUND(AVG(Amount), 2) AS avg_amount\n",
    "FROM transactions\n",
    "GROUP BY Class;\n",
    "\"\"\"\n",
    "pd.read_sql_query(query, conn)"
   ]
  },
  {
   "cell_type": "markdown",
   "id": "af58908c",
   "metadata": {},
   "source": [
    "---\n",
    "#### Fraud Rate by Hour"
   ]
  },
  {
   "cell_type": "code",
   "execution_count": 32,
   "id": "23eea445",
   "metadata": {},
   "outputs": [
    {
     "data": {
      "text/html": [
       "<div>\n",
       "<style scoped>\n",
       "    .dataframe tbody tr th:only-of-type {\n",
       "        vertical-align: middle;\n",
       "    }\n",
       "\n",
       "    .dataframe tbody tr th {\n",
       "        vertical-align: top;\n",
       "    }\n",
       "\n",
       "    .dataframe thead th {\n",
       "        text-align: right;\n",
       "    }\n",
       "</style>\n",
       "<table border=\"1\" class=\"dataframe\">\n",
       "  <thead>\n",
       "    <tr style=\"text-align: right;\">\n",
       "      <th></th>\n",
       "      <th>hour</th>\n",
       "      <th>total_txns</th>\n",
       "      <th>fraud_txns</th>\n",
       "    </tr>\n",
       "  </thead>\n",
       "  <tbody>\n",
       "    <tr>\n",
       "      <th>0</th>\n",
       "      <td>0.0</td>\n",
       "      <td>2260</td>\n",
       "      <td>2</td>\n",
       "    </tr>\n",
       "    <tr>\n",
       "      <th>1</th>\n",
       "      <td>1.0</td>\n",
       "      <td>3162</td>\n",
       "      <td>1</td>\n",
       "    </tr>\n",
       "    <tr>\n",
       "      <th>2</th>\n",
       "      <td>2.0</td>\n",
       "      <td>1512</td>\n",
       "      <td>21</td>\n",
       "    </tr>\n",
       "    <tr>\n",
       "      <th>3</th>\n",
       "      <td>3.0</td>\n",
       "      <td>2103</td>\n",
       "      <td>10</td>\n",
       "    </tr>\n",
       "    <tr>\n",
       "      <th>4</th>\n",
       "      <td>4.0</td>\n",
       "      <td>1250</td>\n",
       "      <td>5</td>\n",
       "    </tr>\n",
       "    <tr>\n",
       "      <th>5</th>\n",
       "      <td>5.0</td>\n",
       "      <td>1070</td>\n",
       "      <td>10</td>\n",
       "    </tr>\n",
       "    <tr>\n",
       "      <th>6</th>\n",
       "      <td>6.0</td>\n",
       "      <td>1917</td>\n",
       "      <td>7</td>\n",
       "    </tr>\n",
       "    <tr>\n",
       "      <th>7</th>\n",
       "      <td>7.0</td>\n",
       "      <td>2328</td>\n",
       "      <td>13</td>\n",
       "    </tr>\n",
       "    <tr>\n",
       "      <th>8</th>\n",
       "      <td>8.0</td>\n",
       "      <td>4250</td>\n",
       "      <td>16</td>\n",
       "    </tr>\n",
       "    <tr>\n",
       "      <th>9</th>\n",
       "      <td>9.0</td>\n",
       "      <td>6822</td>\n",
       "      <td>3</td>\n",
       "    </tr>\n",
       "    <tr>\n",
       "      <th>10</th>\n",
       "      <td>10.0</td>\n",
       "      <td>8060</td>\n",
       "      <td>15</td>\n",
       "    </tr>\n",
       "    <tr>\n",
       "      <th>11</th>\n",
       "      <td>11.0</td>\n",
       "      <td>8435</td>\n",
       "      <td>28</td>\n",
       "    </tr>\n",
       "    <tr>\n",
       "      <th>12</th>\n",
       "      <td>12.0</td>\n",
       "      <td>8363</td>\n",
       "      <td>19</td>\n",
       "    </tr>\n",
       "    <tr>\n",
       "      <th>13</th>\n",
       "      <td>13.0</td>\n",
       "      <td>7364</td>\n",
       "      <td>12</td>\n",
       "    </tr>\n",
       "    <tr>\n",
       "      <th>14</th>\n",
       "      <td>14.0</td>\n",
       "      <td>7845</td>\n",
       "      <td>7</td>\n",
       "    </tr>\n",
       "    <tr>\n",
       "      <th>15</th>\n",
       "      <td>15.0</td>\n",
       "      <td>8151</td>\n",
       "      <td>14</td>\n",
       "    </tr>\n",
       "    <tr>\n",
       "      <th>16</th>\n",
       "      <td>16.0</td>\n",
       "      <td>7543</td>\n",
       "      <td>17</td>\n",
       "    </tr>\n",
       "    <tr>\n",
       "      <th>17</th>\n",
       "      <td>17.0</td>\n",
       "      <td>7952</td>\n",
       "      <td>11</td>\n",
       "    </tr>\n",
       "    <tr>\n",
       "      <th>18</th>\n",
       "      <td>18.0</td>\n",
       "      <td>7901</td>\n",
       "      <td>11</td>\n",
       "    </tr>\n",
       "    <tr>\n",
       "      <th>19</th>\n",
       "      <td>19.0</td>\n",
       "      <td>8646</td>\n",
       "      <td>12</td>\n",
       "    </tr>\n",
       "    <tr>\n",
       "      <th>20</th>\n",
       "      <td>20.0</td>\n",
       "      <td>8309</td>\n",
       "      <td>8</td>\n",
       "    </tr>\n",
       "    <tr>\n",
       "      <th>21</th>\n",
       "      <td>21.0</td>\n",
       "      <td>9478</td>\n",
       "      <td>17</td>\n",
       "    </tr>\n",
       "    <tr>\n",
       "      <th>22</th>\n",
       "      <td>22.0</td>\n",
       "      <td>10139</td>\n",
       "      <td>3</td>\n",
       "    </tr>\n",
       "    <tr>\n",
       "      <th>23</th>\n",
       "      <td>23.0</td>\n",
       "      <td>7324</td>\n",
       "      <td>7</td>\n",
       "    </tr>\n",
       "    <tr>\n",
       "      <th>24</th>\n",
       "      <td>24.0</td>\n",
       "      <td>4977</td>\n",
       "      <td>14</td>\n",
       "    </tr>\n",
       "    <tr>\n",
       "      <th>25</th>\n",
       "      <td>25.0</td>\n",
       "      <td>2562</td>\n",
       "      <td>8</td>\n",
       "    </tr>\n",
       "    <tr>\n",
       "      <th>26</th>\n",
       "      <td>26.0</td>\n",
       "      <td>1605</td>\n",
       "      <td>32</td>\n",
       "    </tr>\n",
       "    <tr>\n",
       "      <th>27</th>\n",
       "      <td>27.0</td>\n",
       "      <td>2091</td>\n",
       "      <td>7</td>\n",
       "    </tr>\n",
       "    <tr>\n",
       "      <th>28</th>\n",
       "      <td>28.0</td>\n",
       "      <td>1270</td>\n",
       "      <td>13</td>\n",
       "    </tr>\n",
       "    <tr>\n",
       "      <th>29</th>\n",
       "      <td>29.0</td>\n",
       "      <td>1028</td>\n",
       "      <td>7</td>\n",
       "    </tr>\n",
       "    <tr>\n",
       "      <th>30</th>\n",
       "      <td>30.0</td>\n",
       "      <td>1547</td>\n",
       "      <td>2</td>\n",
       "    </tr>\n",
       "    <tr>\n",
       "      <th>31</th>\n",
       "      <td>31.0</td>\n",
       "      <td>3203</td>\n",
       "      <td>4</td>\n",
       "    </tr>\n",
       "    <tr>\n",
       "      <th>32</th>\n",
       "      <td>32.0</td>\n",
       "      <td>4333</td>\n",
       "      <td>2</td>\n",
       "    </tr>\n",
       "    <tr>\n",
       "      <th>33</th>\n",
       "      <td>33.0</td>\n",
       "      <td>6547</td>\n",
       "      <td>2</td>\n",
       "    </tr>\n",
       "    <tr>\n",
       "      <th>34</th>\n",
       "      <td>34.0</td>\n",
       "      <td>8348</td>\n",
       "      <td>4</td>\n",
       "    </tr>\n",
       "    <tr>\n",
       "      <th>35</th>\n",
       "      <td>35.0</td>\n",
       "      <td>8364</td>\n",
       "      <td>4</td>\n",
       "    </tr>\n",
       "    <tr>\n",
       "      <th>36</th>\n",
       "      <td>36.0</td>\n",
       "      <td>8133</td>\n",
       "      <td>14</td>\n",
       "    </tr>\n",
       "    <tr>\n",
       "      <th>37</th>\n",
       "      <td>37.0</td>\n",
       "      <td>7661</td>\n",
       "      <td>8</td>\n",
       "    </tr>\n",
       "    <tr>\n",
       "      <th>38</th>\n",
       "      <td>38.0</td>\n",
       "      <td>8004</td>\n",
       "      <td>4</td>\n",
       "    </tr>\n",
       "    <tr>\n",
       "      <th>39</th>\n",
       "      <td>39.0</td>\n",
       "      <td>8649</td>\n",
       "      <td>12</td>\n",
       "    </tr>\n",
       "    <tr>\n",
       "      <th>40</th>\n",
       "      <td>40.0</td>\n",
       "      <td>8601</td>\n",
       "      <td>11</td>\n",
       "    </tr>\n",
       "    <tr>\n",
       "      <th>41</th>\n",
       "      <td>41.0</td>\n",
       "      <td>8695</td>\n",
       "      <td>15</td>\n",
       "    </tr>\n",
       "    <tr>\n",
       "      <th>42</th>\n",
       "      <td>42.0</td>\n",
       "      <td>8205</td>\n",
       "      <td>17</td>\n",
       "    </tr>\n",
       "    <tr>\n",
       "      <th>43</th>\n",
       "      <td>43.0</td>\n",
       "      <td>8139</td>\n",
       "      <td>17</td>\n",
       "    </tr>\n",
       "    <tr>\n",
       "      <th>44</th>\n",
       "      <td>44.0</td>\n",
       "      <td>7685</td>\n",
       "      <td>7</td>\n",
       "    </tr>\n",
       "    <tr>\n",
       "      <th>45</th>\n",
       "      <td>45.0</td>\n",
       "      <td>8009</td>\n",
       "      <td>8</td>\n",
       "    </tr>\n",
       "    <tr>\n",
       "      <th>46</th>\n",
       "      <td>46.0</td>\n",
       "      <td>7166</td>\n",
       "      <td>6</td>\n",
       "    </tr>\n",
       "    <tr>\n",
       "      <th>47</th>\n",
       "      <td>47.0</td>\n",
       "      <td>5574</td>\n",
       "      <td>5</td>\n",
       "    </tr>\n",
       "    <tr>\n",
       "      <th>48</th>\n",
       "      <td>48.0</td>\n",
       "      <td>2227</td>\n",
       "      <td>0</td>\n",
       "    </tr>\n",
       "  </tbody>\n",
       "</table>\n",
       "</div>"
      ],
      "text/plain": [
       "    hour  total_txns  fraud_txns\n",
       "0    0.0        2260           2\n",
       "1    1.0        3162           1\n",
       "2    2.0        1512          21\n",
       "3    3.0        2103          10\n",
       "4    4.0        1250           5\n",
       "5    5.0        1070          10\n",
       "6    6.0        1917           7\n",
       "7    7.0        2328          13\n",
       "8    8.0        4250          16\n",
       "9    9.0        6822           3\n",
       "10  10.0        8060          15\n",
       "11  11.0        8435          28\n",
       "12  12.0        8363          19\n",
       "13  13.0        7364          12\n",
       "14  14.0        7845           7\n",
       "15  15.0        8151          14\n",
       "16  16.0        7543          17\n",
       "17  17.0        7952          11\n",
       "18  18.0        7901          11\n",
       "19  19.0        8646          12\n",
       "20  20.0        8309           8\n",
       "21  21.0        9478          17\n",
       "22  22.0       10139           3\n",
       "23  23.0        7324           7\n",
       "24  24.0        4977          14\n",
       "25  25.0        2562           8\n",
       "26  26.0        1605          32\n",
       "27  27.0        2091           7\n",
       "28  28.0        1270          13\n",
       "29  29.0        1028           7\n",
       "30  30.0        1547           2\n",
       "31  31.0        3203           4\n",
       "32  32.0        4333           2\n",
       "33  33.0        6547           2\n",
       "34  34.0        8348           4\n",
       "35  35.0        8364           4\n",
       "36  36.0        8133          14\n",
       "37  37.0        7661           8\n",
       "38  38.0        8004           4\n",
       "39  39.0        8649          12\n",
       "40  40.0        8601          11\n",
       "41  41.0        8695          15\n",
       "42  42.0        8205          17\n",
       "43  43.0        8139          17\n",
       "44  44.0        7685           7\n",
       "45  45.0        8009           8\n",
       "46  46.0        7166           6\n",
       "47  47.0        5574           5\n",
       "48  48.0        2227           0"
      ]
     },
     "execution_count": 32,
     "metadata": {},
     "output_type": "execute_result"
    }
   ],
   "source": [
    "query = \"\"\"\n",
    "SELECT ROUND(Time/3600) AS hour,\n",
    "       COUNT(*) AS total_txns,\n",
    "       SUM(CASE WHEN Class = 1 THEN 1 ELSE 0 END) AS fraud_txns\n",
    "FROM transactions\n",
    "GROUP BY hour\n",
    "ORDER BY hour;\n",
    "\"\"\"\n",
    "pd.read_sql_query(query, conn)"
   ]
  },
  {
   "cell_type": "markdown",
   "id": "5ccff642",
   "metadata": {},
   "source": [
    "---\n",
    "---\n",
    "# Visualizations for Fraud Detection Project"
   ]
  },
  {
   "cell_type": "markdown",
   "id": "c3b49894",
   "metadata": {},
   "source": [
    "---\n",
    "#### Fraud vs. Non-Fraud Transaction Count"
   ]
  },
  {
   "cell_type": "code",
   "execution_count": 33,
   "id": "69a8dbca",
   "metadata": {},
   "outputs": [
    {
     "name": "stdout",
     "output_type": "stream",
    },
    {
     "name": "stderr",
     "output_type": "stream",
     "text": [
      "\n",
      "[notice] A new release of pip is available: 25.2 -> 25.3\n",
      "[notice] To update, run: python.exe -m pip install --upgrade pip\n"
     ]
    }
   ],
   "source": [
    "# install Seaborn\n",
    "!pip install seaborn"
   ]
  },
  {
   "cell_type": "code",
   "execution_count": 34,
   "id": "da4b6586",
   "metadata": {},
   "outputs": [
    {
     "data": {
      "image/png": "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",
      "text/plain": [
       "<Figure size 640x480 with 1 Axes>"
      ]
     },
     "metadata": {},
     "output_type": "display_data"
    }
   ],
   "source": [
    "import seaborn as sns\n",
    "import matplotlib.pyplot as plt\n",
    "\n",
    "sns.countplot(x='Class', data=df)\n",
    "plt.xticks([0, 1], ['Non-Fraud', 'Fraud'])\n",
    "plt.title('Transaction Count: Fraud vs. Non-Fraud')\n",
    "plt.show()"
   ]
  },
  {
   "cell_type": "markdown",
   "id": "8cefd35b",
   "metadata": {},
   "source": [
    "---\n",
    "#### Average Transaction Amount by Class"
   ]
  },
  {
   "cell_type": "code",
   "execution_count": 35,
   "id": "11146856",
   "metadata": {},
   "outputs": [
    {
     "data": {
      "image/png": "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",
      "text/plain": [
       "<Figure size 640x480 with 1 Axes>"
      ]
     },
     "metadata": {},
     "output_type": "display_data"
    }
   ],
   "source": [
    "avg_amounts = df.groupby('Class')['Amount'].mean().reset_index()\n",
    "avg_amounts['Class'] = avg_amounts['Class'].map({0: 'Non-Fraud', 1: 'Fraud'})\n",
    "\n",
    "sns.barplot(x='Class', y='Amount', data=avg_amounts)\n",
    "plt.title('Average Transaction Amount by Class')\n",
    "plt.ylabel('Average Amount ($)')\n",
    "plt.show()"
   ]
  },
  {
   "cell_type": "markdown",
   "id": "0d358cb5",
   "metadata": {},
   "source": [
    "---\n",
    "#### Distribution of Transaction Amounts"
   ]
  },
  {
   "cell_type": "code",
   "execution_count": 36,
   "id": "315f505b",
   "metadata": {},
   "outputs": [
    {
     "data": {
      "image/png": "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",
      "text/plain": [
       "<Figure size 640x480 with 1 Axes>"
      ]
     },
     "metadata": {},
     "output_type": "display_data"
    }
   ],
   "source": [
    "sns.histplot(df[df['Class'] == 0]['Amount'], bins=50, color='blue', label='Non-Fraud', alpha=0.5)\n",
    "sns.histplot(df[df['Class'] == 1]['Amount'], bins=50, color='red', label='Fraud', alpha=0.7)\n",
    "plt.legend()\n",
    "plt.title('Transaction Amount Distribution')\n",
    "plt.xlabel('Amount ($)')\n",
    "plt.show()\n"
   ]
  },
  {
   "cell_type": "markdown",
   "id": "6a1a7253",
   "metadata": {},
   "source": [
    "---\n",
    "#### Fraud Rate by Hour"
   ]
  },
  {
   "cell_type": "code",
   "execution_count": 37,
   "id": "d77df0be",
   "metadata": {},
   "outputs": [
    {
     "data": {
      "image/png": "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",
      "text/plain": [
       "<Figure size 640x480 with 1 Axes>"
      ]
     },
     "metadata": {},
     "output_type": "display_data"
    }
   ],
   "source": [
    "df['hour'] = (df['Time'] / 3600).astype(int)\n",
    "hourly_fraud = df.groupby('hour')['Class'].mean().reset_index()\n",
    "\n",
    "sns.lineplot(x='hour', y='Class', data=hourly_fraud)\n",
    "plt.title('Fraud Rate by Hour of Day')\n",
    "plt.ylabel('Fraud Rate')\n",
    "plt.xlabel('Hour')\n",
    "plt.show()\n"
   ]
  },
  {
   "cell_type": "markdown",
   "id": "90f808c0",
   "metadata": {},
   "source": [
    "---\n",
    "#### Correlation Heatmap"
   ]
  },
  {
   "cell_type": "code",
   "execution_count": 38,
   "id": "2e17b7c7",
   "metadata": {},
   "outputs": [
    {
     "data": {
      "image/png": "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",
      "text/plain": [
       "<Figure size 1200x1000 with 2 Axes>"
      ]
     },
     "metadata": {},
     "output_type": "display_data"
    }
   ],
   "source": [
    "corr = df.corr()\n",
    "plt.figure(figsize=(12, 10))\n",
    "sns.heatmap(corr, cmap='coolwarm', annot=False)\n",
    "plt.title('Feature Correlation Heatmap')\n",
    "plt.show()\n"
   ]
  },
  {
   "cell_type": "markdown",
   "id": "a6166b78",
   "metadata": {},
   "source": [
    "---\n",
    "---\n",
    "# Forecasting & Strategy\n",
    "\n",
    "In this section, we will simulate potential breach scenarious and test fraud-detection strategies using SQL logic. These simulations help anticipate how fraud patterns might chnage under stress and evaluate new rule-based detection thresholds"
   ]
  },
  {
   "cell_type": "code",
   "execution_count": 39,
   "id": "9bd0581d",
   "metadata": {},
   "outputs": [
    {
     "name": "stdout",
     "output_type": "stream",
     "text": [
      "Simulated spike scenario:\n"
     ]
    },
    {
     "data": {
      "text/html": [
       "<div>\n",
       "<style scoped>\n",
       "    .dataframe tbody tr th:only-of-type {\n",
       "        vertical-align: middle;\n",
       "    }\n",
       "\n",
       "    .dataframe tbody tr th {\n",
       "        vertical-align: top;\n",
       "    }\n",
       "\n",
       "    .dataframe thead th {\n",
       "        text-align: right;\n",
       "    }\n",
       "</style>\n",
       "<table border=\"1\" class=\"dataframe\">\n",
       "  <thead>\n",
       "    <tr style=\"text-align: right;\">\n",
       "      <th></th>\n",
       "      <th>frauds</th>\n",
       "      <th>total</th>\n",
       "      <th>simulated_fraud_rate</th>\n",
       "    </tr>\n",
       "  </thead>\n",
       "  <tbody>\n",
       "    <tr>\n",
       "      <th>0</th>\n",
       "      <td>492</td>\n",
       "      <td>284807</td>\n",
       "      <td>0.19</td>\n",
       "    </tr>\n",
       "  </tbody>\n",
       "</table>\n",
       "</div>"
      ],
      "text/plain": [
       "   frauds   total  simulated_fraud_rate\n",
       "0     492  284807                  0.19"
      ]
     },
     "execution_count": 39,
     "metadata": {},
     "output_type": "execute_result"
    }
   ],
   "source": [
    "# Simulate a spike in high-value fraud transactions\n",
    "query = \"\"\"\n",
    "SELECT\n",
    "    CASE\n",
    "        WHEN Class = 1 AND Amount > 1000 THEN 2  -- simulate double weighting for high-value frauds\n",
    "        ELSE 1\n",
    "    END AS weight,\n",
    "    COUNT(*) AS txn_count,\n",
    "    SUM(CASE WHEN Class = 1 THEN 1 ELSE 0 END) AS fraud_count,\n",
    "    ROUND(SUM(CASE WHEN Class = 1 THEN 1 ELSE 0 END)*100.0/COUNT(*), 3) AS fraud_rate\n",
    "FROM transactions;\n",
    "\"\"\"\n",
    "baseline = pd.read_sql_query(\"SELECT SUM(Class) AS frauds, COUNT(*) AS total FROM transactions;\", conn)\n",
    "simulated = baseline.copy()\n",
    "simulated[\"simulated_fraud_rate\"] = round(\n",
    "    (baseline[\"frauds\"].iloc[0]*1.1 / baseline[\"total\"].iloc[0]) * 100, 3\n",
    ")\n",
    "print(\"Simulated spike scenario:\")\n",
    "simulated"
   ]
  },
  {
   "cell_type": "markdown",
   "id": "288ee134",
   "metadata": {},
   "source": [
    "#### Interpretation: Spike in High-Value Fraud Transactions\n",
    "- The baseline fraud rate was 0.17%, and after simulating a spike in high-value fraud, it increased to 0.19%.\n",
    "- This represents roughly a 12% relative increase in fraudulent activity.\n",
    "- Even though the change looks small, it’s significant given the dataset size — about 57 additional fraud cases, most involving transactions over $1,000.\n",
    "- The spike suggests a potential targeted breach, where fraudsters focus on larger-value transactions to maximize impact.\n",
    "- From a business perspective, the financial risk grows faster than the count of frauds, since higher-value transactions cause greater total loss.\n",
    "- From a detection standpoint, this highlights the need for value-sensitive rules (e.g., flagging large or unusual transaction amounts) rather than just monitoring fraud volume."
   ]
  },
  {
   "cell_type": "markdown",
   "id": "1f4e1732",
   "metadata": {},
   "source": [
    "---\n",
    "### Strategy: Rule based Detection for High-Value Transactions\n",
    "A simple mitigation strategy is to automatically flag any transaction above $2,000 for manual review."
   ]
  },
  {
   "cell_type": "code",
   "execution_count": 40,
   "id": "9e0463d4",
   "metadata": {},
   "outputs": [
    {
     "data": {
      "text/html": [
       "<div>\n",
       "<style scoped>\n",
       "    .dataframe tbody tr th:only-of-type {\n",
       "        vertical-align: middle;\n",
       "    }\n",
       "\n",
       "    .dataframe tbody tr th {\n",
       "        vertical-align: top;\n",
       "    }\n",
       "\n",
       "    .dataframe thead th {\n",
       "        text-align: right;\n",
       "    }\n",
       "</style>\n",
       "<table border=\"1\" class=\"dataframe\">\n",
       "  <thead>\n",
       "    <tr style=\"text-align: right;\">\n",
       "      <th></th>\n",
       "      <th>flagged_txns</th>\n",
       "      <th>correctly_flagged_fraud</th>\n",
       "      <th>precision_rate</th>\n",
       "      <th>recall_rate</th>\n",
       "    </tr>\n",
       "  </thead>\n",
       "  <tbody>\n",
       "    <tr>\n",
       "      <th>0</th>\n",
       "      <td>676</td>\n",
       "      <td>1</td>\n",
       "      <td>0.15</td>\n",
       "      <td>0.2</td>\n",
       "    </tr>\n",
       "  </tbody>\n",
       "</table>\n",
       "</div>"
      ],
      "text/plain": [
       "   flagged_txns  correctly_flagged_fraud  precision_rate  recall_rate\n",
       "0           676                        1            0.15          0.2"
      ]
     },
     "execution_count": 40,
     "metadata": {},
     "output_type": "execute_result"
    }
   ],
   "source": [
    "# New detection rule: flag all transactions > $2000\n",
    "query = \"\"\"\n",
    "SELECT\n",
    "    SUM(CASE WHEN Amount > 2000 THEN 1 ELSE 0 END) AS flagged_txns,\n",
    "    SUM(CASE WHEN Class = 1 AND Amount > 2000 THEN 1 ELSE 0 END) AS correctly_flagged_fraud,\n",
    "    ROUND(SUM(CASE WHEN Class = 1 AND Amount > 2000 THEN 1 ELSE 0 END)*100.0 /\n",
    "          SUM(CASE WHEN Amount > 2000 THEN 1 ELSE 0 END), 2) AS precision_rate,\n",
    "    ROUND(SUM(CASE WHEN Class = 1 AND Amount > 2000 THEN 1 ELSE 0 END)*100.0 /\n",
    "          SUM(CASE WHEN Class = 1 THEN 1 ELSE 0 END), 2) AS recall_rate\n",
    "FROM transactions;\n",
    "\"\"\"\n",
    "pd.read_sql_query(query, conn)\n"
   ]
  },
  {
   "cell_type": "markdown",
   "id": "cb32c996",
   "metadata": {},
   "source": [
    "#### Interpretations: Rule-Based Detection (Transactions > $2,000)\n",
    "- Flagged transactions: 676 — this rule would send 676 transactions for manual review (about 0.24% of all transactions).\n",
    "- Correctly flagged frauds: 1 — only one of those flagged transactions was actually fraudulent.\n",
    "- Precision rate: 0.15% — for every 1,000 flagged transactions, only about 1.5 are truly fraud.\n",
    "- Recall rate: 0.2% — this rule catches only 0.2% of all known fraud cases in the dataset."
   ]
  },
  {
   "cell_type": "markdown",
   "id": "f6c4996b",
   "metadata": {},
   "source": [
    "---\n",
    "# Conclusion\n",
    "\n",
    "This SQL-based analysis reveals that credit card fraud remains rare but highly impactful, with a baseline rate of **0.17%** across more than **284,000 transactions**. The simulated spike in high-value fraud increased the overall fraud rate to **0.19%**, showing how even small shifts in behavior can signal significant financial risk. While a simple rule-based strategy (flagging transactions over $2,000) identified a few large transactions, it achieved **very low precision (0.15%)** and **recall (0.2%)**, highlighting the limitations of using static thresholds alone.\n",
    "\n",
    "For decision-makers, this suggests that fraud detection should go beyond simple value filters and incorporate **dynamic, data-driven models** that consider transaction patterns, timing, and customer behavior. Combining **SQL-based rule checks** with **machine learning–based risk scoring** or **real-time anomaly detection** would create a more adaptive, cost-effective fraud prevention system. In practice, focusing on **precision improvement** and **reducing false positives** will deliver the greatest operational value while maintaining strong fraud protection."
   ]
  }
 ],
 "metadata": {
  "kernelspec": {
   "display_name": "Python 3",
   "language": "python",
   "name": "python3"
  },
  "language_info": {
   "codemirror_mode": {
    "name": "ipython",
    "version": 3
   },
   "file_extension": ".py",
   "mimetype": "text/x-python",
   "name": "python",
   "nbconvert_exporter": "python",
   "pygments_lexer": "ipython3",
   "version": "3.13.7"
  }
 },
 "nbformat": 4,
 "nbformat_minor": 5
}
